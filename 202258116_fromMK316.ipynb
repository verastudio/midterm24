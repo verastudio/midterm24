{
  "nbformat": 4,
  "nbformat_minor": 0,
  "metadata": {
    "colab": {
      "provenance": [],
      "include_colab_link": true
    },
    "kernelspec": {
      "name": "python3",
      "display_name": "Python 3"
    },
    "language_info": {
      "name": "python"
    }
  },
  "cells": [
    {
      "cell_type": "markdown",
      "metadata": {
        "id": "view-in-github",
        "colab_type": "text"
      },
      "source": [
        "<a href=\"https://colab.research.google.com/github/verastudio/midterm24/blob/main/202258116_fromMK316.ipynb\" target=\"_parent\"><img src=\"https://colab.research.google.com/assets/colab-badge.svg\" alt=\"Open In Colab\"/></a>"
      ]
    },
    {
      "cell_type": "markdown",
      "source": [
        "#🌀Midterm 2024: Soolim Lee (202258116)\n",
        "\n",
        "\n"
      ],
      "metadata": {
        "id": "MVM2sAvyvxzY"
      }
    },
    {
      "cell_type": "markdown",
      "source": [
        "## Name Question (😍 Let's use input function. See the code below added after your code.)"
      ],
      "metadata": {
        "id": "IZdCfrBdyMCn"
      }
    },
    {
      "cell_type": "code",
      "source": [
        "x = \"My name is \"\n",
        "y = \"Soolim Lee\"\n",
        "print(x+y+\".\")"
      ],
      "metadata": {
        "colab": {
          "base_uri": "https://localhost:8080/"
        },
        "id": "i4Nl2nu-w-Us",
        "outputId": "27a47a10-9a2f-48a3-fa9f-fff113c0b9b3"
      },
      "execution_count": 1,
      "outputs": [
        {
          "output_type": "stream",
          "name": "stdout",
          "text": [
            "My name is Soolim Lee.\n"
          ]
        }
      ]
    },
    {
      "cell_type": "code",
      "source": [
        "x = \"My name is \"\n",
        "y = input()         #😍 No need to set names here, right? \"Soolim Lee\"\n",
        "print(x+y+\".\")"
      ],
      "metadata": {
        "id": "T6QyJ3Cs6fRE"
      },
      "execution_count": null,
      "outputs": []
    },
    {
      "cell_type": "markdown",
      "source": [
        "## Variable Question (😍 Nice try!)\n",
        "\n",
        "Check out the code provided below yours."
      ],
      "metadata": {
        "id": "b-jN24-hyDpx"
      }
    },
    {
      "cell_type": "code",
      "source": [
        "#'Mary, 1998, Ohio; and John, 1999, Boston.'\n",
        "x = input('name: '); y = input('born in: '); z = input('hometown: ')\n",
        "print (\"'Hello, my name is \"+ x + \". I was born in \" + y + \", and I'm from \" + z + \". Nice to meet you.'.\")"
      ],
      "metadata": {
        "colab": {
          "base_uri": "https://localhost:8080/"
        },
        "id": "MPxc8gHkyNgU",
        "outputId": "8fef81e2-8ab8-474c-c003-9ae97cd294c2"
      },
      "execution_count": 2,
      "outputs": [
        {
          "output_type": "stream",
          "name": "stdout",
          "text": [
            "name: Mary\n",
            "born in: 1998\n",
            "hometown: Ohio\n",
            "'Hello, my name is Mary. I was born in 1998, and I'm from Ohio. Nice to meet you.'.\n"
          ]
        }
      ]
    },
    {
      "cell_type": "markdown",
      "source": [
        "😍 The code below looks simpler, right?"
      ],
      "metadata": {
        "id": "hI7avNNo7Dog"
      }
    },
    {
      "cell_type": "code",
      "source": [
        "#'Mary, 1998, Ohio; and John, 1999, Boston.'\n",
        "x = input('name: '); y = input('born in: '); z = input('hometown: ')\n",
        "print (f\"Hello, my name is {x}. I was born in {y}, and I'm from {z}. Nice to meet you.\")"
      ],
      "metadata": {
        "id": "W78CNeNc6vfa",
        "outputId": "1d97425a-e21e-4ce4-933e-5c00498c0749",
        "colab": {
          "base_uri": "https://localhost:8080/"
        }
      },
      "execution_count": 3,
      "outputs": [
        {
          "output_type": "stream",
          "name": "stdout",
          "text": [
            "name: Mary\n",
            "born in: 1998\n",
            "hometown: Ohio\n",
            "Hello, my name is Mary. I was born in 1998, and I'm from Ohio. Nice to meet you.\n"
          ]
        }
      ]
    },
    {
      "cell_type": "markdown",
      "source": [
        "## Index Question (😍 Great job!)"
      ],
      "metadata": {
        "id": "7uyTzqkj0SDF"
      }
    },
    {
      "cell_type": "code",
      "source": [
        "# Dropdown\n",
        "\n",
        "cardinal_number = \"4\" #@param = [\"1\",\"2\",\"3\",\"4\"]\n",
        "\n",
        "# Add one line of code below\n",
        "cardinal_number = int(cardinal_number)-1\n",
        "\n",
        "# Ordinal expression as a list\n",
        "\n",
        "words = [\"First\", \"Second\", \"Third\",\"Fourth\"]\n",
        "\n",
        "print(\"The ordinal expression:\", words[cardinal_number])"
      ],
      "metadata": {
        "colab": {
          "base_uri": "https://localhost:8080/"
        },
        "id": "tG89vwsY0Ui2",
        "outputId": "961d8827-f8ec-4747-f1be-2ae88139c942",
        "cellView": "form"
      },
      "execution_count": 4,
      "outputs": [
        {
          "output_type": "stream",
          "name": "stdout",
          "text": [
            "The ordinal expression: Fourth\n"
          ]
        }
      ]
    },
    {
      "cell_type": "markdown",
      "source": [
        "## GTTS Question (😍 Good job!)"
      ],
      "metadata": {
        "id": "cNH5dJda1YU1"
      }
    },
    {
      "cell_type": "code",
      "source": [
        "# First, install the gTTS library if you haven't already\n",
        "!pip install gTTS\n",
        "\n",
        "# Import the gTTS library\n",
        "from gtts import gTTS\n",
        "\n",
        "# Import IPython display module\n",
        "from IPython.display import Audio, display"
      ],
      "metadata": {
        "colab": {
          "base_uri": "https://localhost:8080/"
        },
        "id": "j8uE2yRS1il6",
        "outputId": "e082a5ff-2397-41de-90e3-4b30e6f63c14"
      },
      "execution_count": 5,
      "outputs": [
        {
          "output_type": "stream",
          "name": "stdout",
          "text": [
            "Collecting gTTS\n",
            "  Downloading gTTS-2.5.1-py3-none-any.whl (29 kB)\n",
            "Requirement already satisfied: requests<3,>=2.27 in /usr/local/lib/python3.10/dist-packages (from gTTS) (2.31.0)\n",
            "Requirement already satisfied: click<8.2,>=7.1 in /usr/local/lib/python3.10/dist-packages (from gTTS) (8.1.7)\n",
            "Requirement already satisfied: charset-normalizer<4,>=2 in /usr/local/lib/python3.10/dist-packages (from requests<3,>=2.27->gTTS) (3.3.2)\n",
            "Requirement already satisfied: idna<4,>=2.5 in /usr/local/lib/python3.10/dist-packages (from requests<3,>=2.27->gTTS) (3.7)\n",
            "Requirement already satisfied: urllib3<3,>=1.21.1 in /usr/local/lib/python3.10/dist-packages (from requests<3,>=2.27->gTTS) (2.0.7)\n",
            "Requirement already satisfied: certifi>=2017.4.17 in /usr/local/lib/python3.10/dist-packages (from requests<3,>=2.27->gTTS) (2024.2.2)\n",
            "Installing collected packages: gTTS\n",
            "Successfully installed gTTS-2.5.1\n"
          ]
        }
      ]
    },
    {
      "cell_type": "code",
      "source": [
        "# Text to be converted to speech\n",
        "#text = \"This is a test message.\"\n",
        "\n",
        "# Language in which you want to convert\n",
        "language = 'en'\n",
        "\n",
        "# Pass the text and language to the gTTS module\n",
        "speech = gTTS(text = input(), lang = language, slow = False)\n",
        "\n",
        "# Save the converted audio file\n",
        "speech.save(\"output.mp3\")\n",
        "\n",
        "# Display the audio directly in the notebook\n",
        "display(Audio(\"output.mp3\", autoplay=True))"
      ],
      "metadata": {
        "colab": {
          "base_uri": "https://localhost:8080/",
          "height": 93
        },
        "id": "HzLVRQtF3Ir8",
        "outputId": "dcdbe505-960c-456b-ef9f-5fd12f964354"
      },
      "execution_count": 6,
      "outputs": [
        {
          "name": "stdout",
          "output_type": "stream",
          "text": [
            "Wow, you used input inside a function!\n"
          ]
        },
        {
          "output_type": "display_data",
          "data": {
            "text/plain": [
              "<IPython.lib.display.Audio object>"
            ],
            "text/html": [
              "\n",
              "                <audio  controls=\"controls\" autoplay=\"autoplay\">\n",
              "                    <source src=\"data:audio/mpeg;base64,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\" type=\"audio/mpeg\" />\n",
              "                    Your browser does not support the audio element.\n",
              "                </audio>\n",
              "              "
            ]
          },
          "metadata": {}
        }
      ]
    },
    {
      "cell_type": "markdown",
      "source": [
        "## Function Question(😍 Good job!)"
      ],
      "metadata": {
        "id": "WqYlGlxJ3T5o"
      }
    },
    {
      "cell_type": "code",
      "source": [
        "# Define a function for multiplication\n",
        "def devide(x, y):\n",
        "    return x / y\n",
        "\n",
        "# Test the function\n",
        "result = devide(20, 4)\n",
        "print(\"The result of multiplication is:\", result)"
      ],
      "metadata": {
        "colab": {
          "base_uri": "https://localhost:8080/"
        },
        "id": "E22ZLTk-3Zmj",
        "outputId": "f40340bd-2d38-4ef8-d626-b0f96fa7a2a4"
      },
      "execution_count": 7,
      "outputs": [
        {
          "output_type": "stream",
          "name": "stdout",
          "text": [
            "The result of multiplication is: 5.0\n"
          ]
        }
      ]
    },
    {
      "cell_type": "markdown",
      "source": [
        "## Dictionary Question(😍 Good job!)"
      ],
      "metadata": {
        "id": "RdlzOeGS3zLY"
      }
    },
    {
      "cell_type": "code",
      "source": [
        "grades = {\"Bob\": 80}\n",
        "grade = grades[\"Bob\"]\n",
        "print(grade)"
      ],
      "metadata": {
        "colab": {
          "base_uri": "https://localhost:8080/"
        },
        "id": "SrHzGZYr36es",
        "outputId": "1fd1a22a-bfef-4b4a-d40b-91c4728ff86a"
      },
      "execution_count": null,
      "outputs": [
        {
          "output_type": "stream",
          "name": "stdout",
          "text": [
            "80\n"
          ]
        }
      ]
    },
    {
      "cell_type": "markdown",
      "source": [
        "😍 Let's learn how to make a dictionary with multiple items :-)"
      ],
      "metadata": {
        "id": "qx_hlFkz8C0M"
      }
    },
    {
      "cell_type": "code",
      "source": [
        "grades = {\"Bob\": 80, \"Mary\": 70, \"Tommy\": 100}\n",
        "grade = grades[\"Bob\"]\n",
        "print(grade)"
      ],
      "metadata": {
        "id": "l0-eTm0P781T",
        "outputId": "4ce478f6-227c-4dca-dba3-073015832a8f",
        "colab": {
          "base_uri": "https://localhost:8080/"
        }
      },
      "execution_count": 8,
      "outputs": [
        {
          "output_type": "stream",
          "name": "stdout",
          "text": [
            "80\n"
          ]
        }
      ]
    },
    {
      "cell_type": "markdown",
      "source": [
        "## Audio Question"
      ],
      "metadata": {
        "id": "rXI0K2774sUD"
      }
    },
    {
      "cell_type": "code",
      "source": [
        "# Install gradio library using !pip install\n",
        "\n",
        "!pip install gradio gtts"
      ],
      "metadata": {
        "colab": {
          "base_uri": "https://localhost:8080/"
        },
        "id": "6MV6rhKY6HIg",
        "outputId": "95992f33-f268-4485-c1a4-55ffee1c4b4b"
      },
      "execution_count": 4,
      "outputs": [
        {
          "output_type": "stream",
          "name": "stdout",
          "text": [
            "Requirement already satisfied: gradio in /usr/local/lib/python3.10/dist-packages (4.28.3)\n",
            "Requirement already satisfied: gtts in /usr/local/lib/python3.10/dist-packages (2.5.1)\n",
            "Requirement already satisfied: aiofiles<24.0,>=22.0 in /usr/local/lib/python3.10/dist-packages (from gradio) (23.2.1)\n",
            "Requirement already satisfied: altair<6.0,>=4.2.0 in /usr/local/lib/python3.10/dist-packages (from gradio) (4.2.2)\n",
            "Requirement already satisfied: fastapi in /usr/local/lib/python3.10/dist-packages (from gradio) (0.110.3)\n",
            "Requirement already satisfied: ffmpy in /usr/local/lib/python3.10/dist-packages (from gradio) (0.3.2)\n",
            "Requirement already satisfied: gradio-client==0.16.0 in /usr/local/lib/python3.10/dist-packages (from gradio) (0.16.0)\n",
            "Requirement already satisfied: httpx>=0.24.1 in /usr/local/lib/python3.10/dist-packages (from gradio) (0.27.0)\n",
            "Requirement already satisfied: huggingface-hub>=0.19.3 in /usr/local/lib/python3.10/dist-packages (from gradio) (0.20.3)\n",
            "Requirement already satisfied: importlib-resources<7.0,>=1.3 in /usr/local/lib/python3.10/dist-packages (from gradio) (6.4.0)\n",
            "Requirement already satisfied: jinja2<4.0 in /usr/local/lib/python3.10/dist-packages (from gradio) (3.1.3)\n",
            "Requirement already satisfied: markupsafe~=2.0 in /usr/local/lib/python3.10/dist-packages (from gradio) (2.1.5)\n",
            "Requirement already satisfied: matplotlib~=3.0 in /usr/local/lib/python3.10/dist-packages (from gradio) (3.7.1)\n",
            "Requirement already satisfied: numpy~=1.0 in /usr/local/lib/python3.10/dist-packages (from gradio) (1.25.2)\n",
            "Requirement already satisfied: orjson~=3.0 in /usr/local/lib/python3.10/dist-packages (from gradio) (3.10.1)\n",
            "Requirement already satisfied: packaging in /usr/local/lib/python3.10/dist-packages (from gradio) (24.0)\n",
            "Requirement already satisfied: pandas<3.0,>=1.0 in /usr/local/lib/python3.10/dist-packages (from gradio) (2.0.3)\n",
            "Requirement already satisfied: pillow<11.0,>=8.0 in /usr/local/lib/python3.10/dist-packages (from gradio) (9.4.0)\n",
            "Requirement already satisfied: pydantic>=2.0 in /usr/local/lib/python3.10/dist-packages (from gradio) (2.7.1)\n",
            "Requirement already satisfied: pydub in /usr/local/lib/python3.10/dist-packages (from gradio) (0.25.1)\n",
            "Requirement already satisfied: python-multipart>=0.0.9 in /usr/local/lib/python3.10/dist-packages (from gradio) (0.0.9)\n",
            "Requirement already satisfied: pyyaml<7.0,>=5.0 in /usr/local/lib/python3.10/dist-packages (from gradio) (6.0.1)\n",
            "Requirement already satisfied: ruff>=0.2.2 in /usr/local/lib/python3.10/dist-packages (from gradio) (0.4.2)\n",
            "Requirement already satisfied: semantic-version~=2.0 in /usr/local/lib/python3.10/dist-packages (from gradio) (2.10.0)\n",
            "Requirement already satisfied: tomlkit==0.12.0 in /usr/local/lib/python3.10/dist-packages (from gradio) (0.12.0)\n",
            "Requirement already satisfied: typer<1.0,>=0.12 in /usr/local/lib/python3.10/dist-packages (from gradio) (0.12.3)\n",
            "Requirement already satisfied: typing-extensions~=4.0 in /usr/local/lib/python3.10/dist-packages (from gradio) (4.11.0)\n",
            "Requirement already satisfied: urllib3~=2.0 in /usr/local/lib/python3.10/dist-packages (from gradio) (2.0.7)\n",
            "Requirement already satisfied: uvicorn>=0.14.0 in /usr/local/lib/python3.10/dist-packages (from gradio) (0.29.0)\n",
            "Requirement already satisfied: fsspec in /usr/local/lib/python3.10/dist-packages (from gradio-client==0.16.0->gradio) (2023.6.0)\n",
            "Requirement already satisfied: websockets<12.0,>=10.0 in /usr/local/lib/python3.10/dist-packages (from gradio-client==0.16.0->gradio) (11.0.3)\n",
            "Requirement already satisfied: requests<3,>=2.27 in /usr/local/lib/python3.10/dist-packages (from gtts) (2.31.0)\n",
            "Requirement already satisfied: click<8.2,>=7.1 in /usr/local/lib/python3.10/dist-packages (from gtts) (8.1.7)\n",
            "Requirement already satisfied: entrypoints in /usr/local/lib/python3.10/dist-packages (from altair<6.0,>=4.2.0->gradio) (0.4)\n",
            "Requirement already satisfied: jsonschema>=3.0 in /usr/local/lib/python3.10/dist-packages (from altair<6.0,>=4.2.0->gradio) (4.19.2)\n",
            "Requirement already satisfied: toolz in /usr/local/lib/python3.10/dist-packages (from altair<6.0,>=4.2.0->gradio) (0.12.1)\n",
            "Requirement already satisfied: anyio in /usr/local/lib/python3.10/dist-packages (from httpx>=0.24.1->gradio) (3.7.1)\n",
            "Requirement already satisfied: certifi in /usr/local/lib/python3.10/dist-packages (from httpx>=0.24.1->gradio) (2024.2.2)\n",
            "Requirement already satisfied: httpcore==1.* in /usr/local/lib/python3.10/dist-packages (from httpx>=0.24.1->gradio) (1.0.5)\n",
            "Requirement already satisfied: idna in /usr/local/lib/python3.10/dist-packages (from httpx>=0.24.1->gradio) (3.7)\n",
            "Requirement already satisfied: sniffio in /usr/local/lib/python3.10/dist-packages (from httpx>=0.24.1->gradio) (1.3.1)\n",
            "Requirement already satisfied: h11<0.15,>=0.13 in /usr/local/lib/python3.10/dist-packages (from httpcore==1.*->httpx>=0.24.1->gradio) (0.14.0)\n",
            "Requirement already satisfied: filelock in /usr/local/lib/python3.10/dist-packages (from huggingface-hub>=0.19.3->gradio) (3.13.4)\n",
            "Requirement already satisfied: tqdm>=4.42.1 in /usr/local/lib/python3.10/dist-packages (from huggingface-hub>=0.19.3->gradio) (4.66.2)\n",
            "Requirement already satisfied: contourpy>=1.0.1 in /usr/local/lib/python3.10/dist-packages (from matplotlib~=3.0->gradio) (1.2.1)\n",
            "Requirement already satisfied: cycler>=0.10 in /usr/local/lib/python3.10/dist-packages (from matplotlib~=3.0->gradio) (0.12.1)\n",
            "Requirement already satisfied: fonttools>=4.22.0 in /usr/local/lib/python3.10/dist-packages (from matplotlib~=3.0->gradio) (4.51.0)\n",
            "Requirement already satisfied: kiwisolver>=1.0.1 in /usr/local/lib/python3.10/dist-packages (from matplotlib~=3.0->gradio) (1.4.5)\n",
            "Requirement already satisfied: pyparsing>=2.3.1 in /usr/local/lib/python3.10/dist-packages (from matplotlib~=3.0->gradio) (3.1.2)\n",
            "Requirement already satisfied: python-dateutil>=2.7 in /usr/local/lib/python3.10/dist-packages (from matplotlib~=3.0->gradio) (2.8.2)\n",
            "Requirement already satisfied: pytz>=2020.1 in /usr/local/lib/python3.10/dist-packages (from pandas<3.0,>=1.0->gradio) (2023.4)\n",
            "Requirement already satisfied: tzdata>=2022.1 in /usr/local/lib/python3.10/dist-packages (from pandas<3.0,>=1.0->gradio) (2024.1)\n",
            "Requirement already satisfied: annotated-types>=0.4.0 in /usr/local/lib/python3.10/dist-packages (from pydantic>=2.0->gradio) (0.6.0)\n",
            "Requirement already satisfied: pydantic-core==2.18.2 in /usr/local/lib/python3.10/dist-packages (from pydantic>=2.0->gradio) (2.18.2)\n",
            "Requirement already satisfied: charset-normalizer<4,>=2 in /usr/local/lib/python3.10/dist-packages (from requests<3,>=2.27->gtts) (3.3.2)\n",
            "Requirement already satisfied: shellingham>=1.3.0 in /usr/local/lib/python3.10/dist-packages (from typer<1.0,>=0.12->gradio) (1.5.4)\n",
            "Requirement already satisfied: rich>=10.11.0 in /usr/local/lib/python3.10/dist-packages (from typer<1.0,>=0.12->gradio) (13.7.1)\n",
            "Requirement already satisfied: starlette<0.38.0,>=0.37.2 in /usr/local/lib/python3.10/dist-packages (from fastapi->gradio) (0.37.2)\n",
            "Requirement already satisfied: attrs>=22.2.0 in /usr/local/lib/python3.10/dist-packages (from jsonschema>=3.0->altair<6.0,>=4.2.0->gradio) (23.2.0)\n",
            "Requirement already satisfied: jsonschema-specifications>=2023.03.6 in /usr/local/lib/python3.10/dist-packages (from jsonschema>=3.0->altair<6.0,>=4.2.0->gradio) (2023.12.1)\n",
            "Requirement already satisfied: referencing>=0.28.4 in /usr/local/lib/python3.10/dist-packages (from jsonschema>=3.0->altair<6.0,>=4.2.0->gradio) (0.35.0)\n",
            "Requirement already satisfied: rpds-py>=0.7.1 in /usr/local/lib/python3.10/dist-packages (from jsonschema>=3.0->altair<6.0,>=4.2.0->gradio) (0.18.0)\n",
            "Requirement already satisfied: six>=1.5 in /usr/local/lib/python3.10/dist-packages (from python-dateutil>=2.7->matplotlib~=3.0->gradio) (1.16.0)\n",
            "Requirement already satisfied: markdown-it-py>=2.2.0 in /usr/local/lib/python3.10/dist-packages (from rich>=10.11.0->typer<1.0,>=0.12->gradio) (3.0.0)\n",
            "Requirement already satisfied: pygments<3.0.0,>=2.13.0 in /usr/local/lib/python3.10/dist-packages (from rich>=10.11.0->typer<1.0,>=0.12->gradio) (2.16.1)\n",
            "Requirement already satisfied: exceptiongroup in /usr/local/lib/python3.10/dist-packages (from anyio->httpx>=0.24.1->gradio) (1.2.1)\n",
            "Requirement already satisfied: mdurl~=0.1 in /usr/local/lib/python3.10/dist-packages (from markdown-it-py>=2.2.0->rich>=10.11.0->typer<1.0,>=0.12->gradio) (0.1.2)\n"
          ]
        }
      ]
    },
    {
      "cell_type": "code",
      "source": [
        "import gradio as gr\n",
        "from gtts import gTTS\n",
        "import os"
      ],
      "metadata": {
        "id": "IIG5rtwh_8nh"
      },
      "execution_count": 5,
      "outputs": []
    },
    {
      "cell_type": "code",
      "source": [
        "def text_to_speech(text, language):\n",
        "    lang_code = 'en' if language == \"English\" else 'ko'\n",
        "    tts = gTTS(text=text, lang=lang_code, slow=False)\n",
        "    tts.save(\"output.mp3\")\n",
        "    return \"output.mp3\"\n",
        "\n"
      ],
      "metadata": {
        "id": "VBPoG8m7A-DS"
      },
      "execution_count": 6,
      "outputs": []
    },
    {
      "cell_type": "markdown",
      "source": [
        "😍 I found this issue among some students. By putting 'share=True' inside interface.launch() solves the problem."
      ],
      "metadata": {
        "id": "5oaXZmxk8hnR"
      }
    },
    {
      "cell_type": "code",
      "source": [
        "interface = gr.Interface(\n",
        "    fn=text_to_speech,\n",
        "    inputs=[\n",
        "        gr.Textbox(lines=3, label=\"Enter text\"),\n",
        "        gr.Radio(choices=[\"English\", \"Korean\"], label=\"Select language\")\n",
        "    ],\n",
        "    outputs=gr.Audio(type=\"filepath\", label=\"Audio\"),\n",
        "    title=\"Text-to-Speech\",\n",
        "    description=\"Type in some text, select a language, and generate audio.\",\n",
        ")\n",
        "\n",
        "interface.launch(share=True)"
      ],
      "metadata": {
        "colab": {
          "base_uri": "https://localhost:8080/",
          "height": 731
        },
        "id": "Lm-_uDcyBAPl",
        "outputId": "d2bb1728-f1d7-46f3-eadf-714a2acfa15d"
      },
      "execution_count": 13,
      "outputs": [
        {
          "output_type": "stream",
          "name": "stdout",
          "text": [
            "Colab notebook detected. To show errors in colab notebook, set debug=True in launch()\n",
            "\n",
            "Could not create share link. Missing file: /usr/local/lib/python3.10/dist-packages/gradio/frpc_linux_amd64_v0.2. \n",
            "\n",
            "Please check your internet connection. This can happen if your antivirus software blocks the download of this file. You can install manually by following these steps: \n",
            "\n",
            "1. Download this file: https://cdn-media.huggingface.co/frpc-gradio-0.2/frpc_linux_amd64\n",
            "2. Rename the downloaded file to: frpc_linux_amd64_v0.2\n",
            "3. Move the file to this location: /usr/local/lib/python3.10/dist-packages/gradio\n"
          ]
        },
        {
          "output_type": "display_data",
          "data": {
            "text/plain": [
              "<IPython.core.display.Javascript object>"
            ],
            "application/javascript": [
              "(async (port, path, width, height, cache, element) => {\n",
              "                        if (!google.colab.kernel.accessAllowed && !cache) {\n",
              "                            return;\n",
              "                        }\n",
              "                        element.appendChild(document.createTextNode(''));\n",
              "                        const url = await google.colab.kernel.proxyPort(port, {cache});\n",
              "\n",
              "                        const external_link = document.createElement('div');\n",
              "                        external_link.innerHTML = `\n",
              "                            <div style=\"font-family: monospace; margin-bottom: 0.5rem\">\n",
              "                                Running on <a href=${new URL(path, url).toString()} target=\"_blank\">\n",
              "                                    https://localhost:${port}${path}\n",
              "                                </a>\n",
              "                            </div>\n",
              "                        `;\n",
              "                        element.appendChild(external_link);\n",
              "\n",
              "                        const iframe = document.createElement('iframe');\n",
              "                        iframe.src = new URL(path, url).toString();\n",
              "                        iframe.height = height;\n",
              "                        iframe.allow = \"autoplay; camera; microphone; clipboard-read; clipboard-write;\"\n",
              "                        iframe.width = width;\n",
              "                        iframe.style.border = 0;\n",
              "                        element.appendChild(iframe);\n",
              "                    })(7861, \"/\", \"100%\", 500, false, window.element)"
            ]
          },
          "metadata": {}
        },
        {
          "output_type": "execute_result",
          "data": {
            "text/plain": []
          },
          "metadata": {},
          "execution_count": 13
        }
      ]
    },
    {
      "cell_type": "markdown",
      "source": [
        "😍 Let me try again (in a minute)"
      ],
      "metadata": {
        "id": "k4Ryj5zn89EP"
      }
    },
    {
      "cell_type": "code",
      "source": [
        "import gradio as gr\n",
        "from gtts import gTTS\n",
        "import os\n",
        "\n",
        "def text_to_speech(text, language):\n",
        "    lang_code = 'en' if language == \"English\" else 'ko'\n",
        "    tts = gTTS(text=text, lang=lang_code, slow=False)\n",
        "    tts.save(\"output.mp3\")\n",
        "    return \"output.mp3\"\n",
        "\n",
        "interface = gr.Interface(\n",
        "    fn=text_to_speech,\n",
        "    inputs=[\n",
        "        gr.Textbox(lines=3, label=\"Enter text\"),\n",
        "        gr.Radio(choices=[\"English\", \"Korean\"], label=\"Select language\")\n",
        "    ],\n",
        "    outputs=gr.Audio(type=\"filepath\", label=\"Audio\"),\n",
        "    title=\"Text-to-Speech\",\n",
        "    description=\"Type in some text, select a language, and generate audio.\",\n",
        ")\n",
        "\n",
        "interface.launch(share=True)"
      ],
      "metadata": {
        "id": "NdTqtaUa8_8t",
        "outputId": "51962e37-81ce-4d4b-b6bf-458536a34ada",
        "colab": {
          "base_uri": "https://localhost:8080/",
          "height": 731
        }
      },
      "execution_count": 8,
      "outputs": [
        {
          "output_type": "stream",
          "name": "stdout",
          "text": [
            "Colab notebook detected. To show errors in colab notebook, set debug=True in launch()\n",
            "\n",
            "Could not create share link. Missing file: /usr/local/lib/python3.10/dist-packages/gradio/frpc_linux_amd64_v0.2. \n",
            "\n",
            "Please check your internet connection. This can happen if your antivirus software blocks the download of this file. You can install manually by following these steps: \n",
            "\n",
            "1. Download this file: https://cdn-media.huggingface.co/frpc-gradio-0.2/frpc_linux_amd64\n",
            "2. Rename the downloaded file to: frpc_linux_amd64_v0.2\n",
            "3. Move the file to this location: /usr/local/lib/python3.10/dist-packages/gradio\n"
          ]
        },
        {
          "output_type": "display_data",
          "data": {
            "text/plain": [
              "<IPython.core.display.Javascript object>"
            ],
            "application/javascript": [
              "(async (port, path, width, height, cache, element) => {\n",
              "                        if (!google.colab.kernel.accessAllowed && !cache) {\n",
              "                            return;\n",
              "                        }\n",
              "                        element.appendChild(document.createTextNode(''));\n",
              "                        const url = await google.colab.kernel.proxyPort(port, {cache});\n",
              "\n",
              "                        const external_link = document.createElement('div');\n",
              "                        external_link.innerHTML = `\n",
              "                            <div style=\"font-family: monospace; margin-bottom: 0.5rem\">\n",
              "                                Running on <a href=${new URL(path, url).toString()} target=\"_blank\">\n",
              "                                    https://localhost:${port}${path}\n",
              "                                </a>\n",
              "                            </div>\n",
              "                        `;\n",
              "                        element.appendChild(external_link);\n",
              "\n",
              "                        const iframe = document.createElement('iframe');\n",
              "                        iframe.src = new URL(path, url).toString();\n",
              "                        iframe.height = height;\n",
              "                        iframe.allow = \"autoplay; camera; microphone; clipboard-read; clipboard-write;\"\n",
              "                        iframe.width = width;\n",
              "                        iframe.style.border = 0;\n",
              "                        element.appendChild(iframe);\n",
              "                    })(7860, \"/\", \"100%\", 500, false, window.element)"
            ]
          },
          "metadata": {}
        },
        {
          "output_type": "execute_result",
          "data": {
            "text/plain": []
          },
          "metadata": {},
          "execution_count": 8
        }
      ]
    },
    {
      "cell_type": "markdown",
      "source": [
        "## Countdown Question"
      ],
      "metadata": {
        "id": "zwnKhGhU6cix"
      }
    },
    {
      "cell_type": "code",
      "source": [
        "import gradio as gr\n",
        "from datetime import datetime\n",
        "\n"
      ],
      "metadata": {
        "id": "64lP2Aai6eZ4"
      },
      "execution_count": 9,
      "outputs": []
    },
    {
      "cell_type": "code",
      "source": [
        "def countdown(target_date):\n",
        "    try:\n",
        "        # Parse the user input date\n",
        "        date_format = \"%Y-%m-%d\"\n",
        "        future_date = datetime.strptime(target_date, date_format)\n",
        "\n",
        "        # Get the current time\n",
        "        now = datetime.now()\n",
        "\n",
        "        # Calculate the difference between the future date and the current time\n",
        "        countdown = future_date - now\n",
        "\n",
        "        # Generate the countdown message\n",
        "        if countdown.days >= 0:\n",
        "            return f\"Time until {target_date}: \\n {countdown.days} days, {countdown.seconds//3600} hours, {(countdown.seconds//60)%60} minutes.\"\n",
        "        else:\n",
        "            return \"The specified date has already passed.\"\n",
        "    except ValueError:\n",
        "        return \"Please enter the date in YYYY-MM-DD format.\"\n",
        "\n",
        "# Create the Gradio interface\n",
        "interface = gr.Interface(\n",
        "    fn=countdown,\n",
        "    inputs=gr.Text(label=\"Enter a future date (e.g., 2024-12-25)\"),\n",
        "    outputs=\"text\",\n",
        "    title=\"Date Countdown\",\n",
        "    description=\"Enter a date to see how many days, hours, and minutes are left until the designated date.\"\n",
        ")\n",
        "\n",
        "interface.launch()"
      ],
      "metadata": {
        "id": "9raE48I8BJD2",
        "outputId": "d5e5f0cf-5448-42f1-c5c8-50346aef00a1",
        "colab": {
          "base_uri": "https://localhost:8080/",
          "height": 768
        }
      },
      "execution_count": 12,
      "outputs": [
        {
          "output_type": "stream",
          "name": "stdout",
          "text": [
            "Setting queue=True in a Colab notebook requires sharing enabled. Setting `share=True` (you can turn this off by setting `share=False` in `launch()` explicitly).\n",
            "\n",
            "Colab notebook detected. To show errors in colab notebook, set debug=True in launch()\n",
            "\n",
            "Could not create share link. Missing file: /usr/local/lib/python3.10/dist-packages/gradio/frpc_linux_amd64_v0.2. \n",
            "\n",
            "Please check your internet connection. This can happen if your antivirus software blocks the download of this file. You can install manually by following these steps: \n",
            "\n",
            "1. Download this file: https://cdn-media.huggingface.co/frpc-gradio-0.2/frpc_linux_amd64\n",
            "2. Rename the downloaded file to: frpc_linux_amd64_v0.2\n",
            "3. Move the file to this location: /usr/local/lib/python3.10/dist-packages/gradio\n"
          ]
        },
        {
          "output_type": "display_data",
          "data": {
            "text/plain": [
              "<IPython.core.display.Javascript object>"
            ],
            "application/javascript": [
              "(async (port, path, width, height, cache, element) => {\n",
              "                        if (!google.colab.kernel.accessAllowed && !cache) {\n",
              "                            return;\n",
              "                        }\n",
              "                        element.appendChild(document.createTextNode(''));\n",
              "                        const url = await google.colab.kernel.proxyPort(port, {cache});\n",
              "\n",
              "                        const external_link = document.createElement('div');\n",
              "                        external_link.innerHTML = `\n",
              "                            <div style=\"font-family: monospace; margin-bottom: 0.5rem\">\n",
              "                                Running on <a href=${new URL(path, url).toString()} target=\"_blank\">\n",
              "                                    https://localhost:${port}${path}\n",
              "                                </a>\n",
              "                            </div>\n",
              "                        `;\n",
              "                        element.appendChild(external_link);\n",
              "\n",
              "                        const iframe = document.createElement('iframe');\n",
              "                        iframe.src = new URL(path, url).toString();\n",
              "                        iframe.height = height;\n",
              "                        iframe.allow = \"autoplay; camera; microphone; clipboard-read; clipboard-write;\"\n",
              "                        iframe.width = width;\n",
              "                        iframe.style.border = 0;\n",
              "                        element.appendChild(iframe);\n",
              "                    })(7862, \"/\", \"100%\", 500, false, window.element)"
            ]
          },
          "metadata": {}
        },
        {
          "output_type": "execute_result",
          "data": {
            "text/plain": []
          },
          "metadata": {},
          "execution_count": 12
        }
      ]
    }
  ]
}